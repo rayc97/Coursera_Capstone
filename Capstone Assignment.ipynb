{
    "cells": [
        {
            "cell_type": "markdown",
            "metadata": {
                "collapsed": true
            },
            "source": "# *Applied Data Science Capstone*"
        },
        {
            "cell_type": "markdown",
            "metadata": {},
            "source": "## Part I (Course 9 - Week 3 Submission)"
        },
        {
            "cell_type": "markdown",
            "metadata": {},
            "source": "The cell below imports all the necessary packages to conduct the web scraping and data cleaning."
        },
        {
            "cell_type": "code",
            "execution_count": 1,
            "metadata": {},
            "outputs": [],
            "source": "import pandas as pd\nimport numpy as np\nimport requests\nfrom bs4 import BeautifulSoup"
        },
        {
            "cell_type": "markdown",
            "metadata": {},
            "source": "The cell below identifies the URL where the data will be extracted from. Then, using the \"BeautifulSoup\" tool, it will parse the webpage before pulling the information needed. Once, parsing is completed, the code looks for specific functions used in the webpage coding (i.e. 'td','th','tr') to identify the table. Leveraging the webpage coding, the table is created and stored identifying what the table headers as well as rows are. A dataframe is created from the table and the data is cleaned as per the requirements identified. Finally, the first 5 rows are displayed to illustrate what the dataframe looks like."
        },
        {
            "cell_type": "code",
            "execution_count": 2,
            "metadata": {},
            "outputs": [
                {
                    "data": {
                        "text/html": "<div>\n<style scoped>\n    .dataframe tbody tr th:only-of-type {\n        vertical-align: middle;\n    }\n\n    .dataframe tbody tr th {\n        vertical-align: top;\n    }\n\n    .dataframe thead th {\n        text-align: right;\n    }\n</style>\n<table border=\"1\" class=\"dataframe\">\n  <thead>\n    <tr style=\"text-align: right;\">\n      <th></th>\n      <th>Postal Code</th>\n      <th>Borough</th>\n      <th>Neighborhood</th>\n    </tr>\n  </thead>\n  <tbody>\n    <tr>\n      <th>0</th>\n      <td>M3A</td>\n      <td>North York</td>\n      <td>Parkwoods</td>\n    </tr>\n    <tr>\n      <th>1</th>\n      <td>M4A</td>\n      <td>North York</td>\n      <td>Victoria Village</td>\n    </tr>\n    <tr>\n      <th>2</th>\n      <td>M5A</td>\n      <td>Downtown Toronto</td>\n      <td>Regent Park, Harbourfront</td>\n    </tr>\n    <tr>\n      <th>3</th>\n      <td>M6A</td>\n      <td>North York</td>\n      <td>Lawrence Manor, Lawrence Heights</td>\n    </tr>\n    <tr>\n      <th>4</th>\n      <td>M7A</td>\n      <td>Downtown Toronto</td>\n      <td>Queen's Park, Ontario Provincial Government</td>\n    </tr>\n  </tbody>\n</table>\n</div>",
                        "text/plain": "  Postal Code           Borough                                 Neighborhood\n0         M3A        North York                                    Parkwoods\n1         M4A        North York                             Victoria Village\n2         M5A  Downtown Toronto                    Regent Park, Harbourfront\n3         M6A        North York             Lawrence Manor, Lawrence Heights\n4         M7A  Downtown Toronto  Queen's Park, Ontario Provincial Government"
                    },
                    "execution_count": 2,
                    "metadata": {},
                    "output_type": "execute_result"
                }
            ],
            "source": "url = 'https://en.wikipedia.org/wiki/List_of_postal_codes_of_Canada:_M'\n\npage = requests.get(url).text\n\nsoup = BeautifulSoup(page, 'lxml')\n\ntable = soup.find(\"table\", attrs={\"class\": \"wikitable sortable\"})\n\ntable_headers = []\nfor th in table.find_all(\"th\"):\n    table_headers.append(th.text.replace('\\n', ' ').strip())\n        \ntable_data = []\nfor tr in table.tbody.find_all(\"tr\"): \n    table_rows = {}\n    \n    for td, th in zip(tr.find_all(\"td\"), table_headers): \n        table_rows[th] = td.text.replace('\\n', '').strip()\n    table_data.append(table_rows)\n\ndf = pd.DataFrame(table_data)\n\ndf = df.drop(df.index[0])\ndf = df[df.Borough != 'Not assigned']\ndf = df.reset_index()\ndf = df.drop(columns = ['index'])\ndf = df[['Postal Code','Borough','Neighborhood']]\n\ndf.head()"
        },
        {
            "cell_type": "markdown",
            "metadata": {},
            "source": "The cell below provides the shape of the dataframe created."
        },
        {
            "cell_type": "code",
            "execution_count": 3,
            "metadata": {},
            "outputs": [
                {
                    "name": "stdout",
                    "output_type": "stream",
                    "text": "(103, 3)\n\n\nThe dataframe has 103 rows and 3 columns.\n"
                }
            ],
            "source": "print(df.shape)\nprint('\\n')\nprint('The dataframe has {} rows and {} columns.'.format(df.shape[0], df.shape[1]))"
        }
    ],
    "metadata": {
        "kernelspec": {
            "display_name": "Python 3.6",
            "language": "python",
            "name": "python3"
        },
        "language_info": {
            "codemirror_mode": {
                "name": "ipython",
                "version": 3
            },
            "file_extension": ".py",
            "mimetype": "text/x-python",
            "name": "python",
            "nbconvert_exporter": "python",
            "pygments_lexer": "ipython3",
            "version": "3.6.9"
        }
    },
    "nbformat": 4,
    "nbformat_minor": 1
}